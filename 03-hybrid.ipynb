{
 "cells": [
  {
   "cell_type": "markdown",
   "metadata": {},
   "source": [
    "# Conversion in a stirred-tank reactor"
   ]
  },
  {
   "cell_type": "markdown",
   "metadata": {},
   "source": [
    "Now that we've learned the reaction kinetics in a batch experiments. Let's couple the NODE to a process model to simulate the bio-chemical conversion in a continuously stirred-tank reactor (CSTR). This is a *hybrid* model since it combines a mechanistic process model with a data-driven model.\n",
    "\n",
    "<img src=\"./figs/CSTR.svg\" width=300>\n",
    "\n",
    "The reaction in a CSTR can described by the following equation,\n",
    "\n",
    "$$ \\cfrac{\\mathrm{d}C_i}{\\mathrm{d}t} = \\cfrac{Q}{V}\\, \\left(C_{in}-C_i \\right) + R $$\n",
    "\n",
    "with,\n",
    "\n",
    "$C_i$ the concentration of component $i$, \n",
    "\n",
    "$Q$ the volumetric flow rate, \n",
    "\n",
    "$V$ the reactor volume, \n",
    "\n",
    "$C_{in}$ influent concentration and \n",
    "\n",
    "$R$ the reaction rate, which is a function of the concentration in the reactor as is shown in the previous notebook."
   ]
  },
  {
   "cell_type": "code",
   "execution_count": null,
   "metadata": {},
   "outputs": [],
   "source": [
    "include(\"./src/helper-functions.jl\");"
   ]
  },
  {
   "cell_type": "code",
   "execution_count": null,
   "metadata": {},
   "outputs": [],
   "source": [
    "using OrdinaryDiffEq\n",
    "using Plots\n",
    "using DiffEqFlux, Flux"
   ]
  },
  {
   "cell_type": "markdown",
   "metadata": {},
   "source": [
    "## Loading the trained parameters"
   ]
  },
  {
   "cell_type": "markdown",
   "metadata": {},
   "source": [
    "The first step is to load the parameters of the trained neural differential equation."
   ]
  },
  {
   "cell_type": "code",
   "execution_count": null,
   "metadata": {},
   "outputs": [],
   "source": [
    "text = open(f->read(f, String), \"model/trainedModel.csv\") |> s -> split(s, \"\\n\")[1:end-1] \n",
    "p = parse.(Float32,text)"
   ]
  },
  {
   "cell_type": "markdown",
   "metadata": {},
   "source": [
    "Secondly, we define the same neural network structure as before"
   ]
  },
  {
   "cell_type": "code",
   "execution_count": null,
   "metadata": {},
   "outputs": [],
   "source": [
    "ann = Flux.Chain(Flux.Dense(3, 20, σ), Flux.Dense(20, 8, σ), Flux.Dense(8,1), x->x.*[1.0f0; 1.0f0; -1.0f0])\n",
    "~, re = Flux.destructure(ann);"
   ]
  },
  {
   "cell_type": "markdown",
   "metadata": {},
   "source": [
    "Now we put the trained parameterset $p$ in the neural network."
   ]
  },
  {
   "cell_type": "code",
   "execution_count": null,
   "metadata": {},
   "outputs": [],
   "source": [
    "trainedModel(u,p,t) = re(p)(u);"
   ]
  },
  {
   "cell_type": "code",
   "execution_count": null,
   "metadata": {},
   "outputs": [],
   "source": [
    "C₀ = Float32[60.0; 60.0; 15.0]\n",
    "prob = ODEProblem(trainedModel, C₀, (0.0f0, 240.0f0))\n",
    "\n",
    "function predict_neuralODE(C₀)\n",
    "    Array(solve(prob,Tsit5(),u0=C₀,p=p,saveat=data[2]))\n",
    "end"
   ]
  },
  {
   "cell_type": "markdown",
   "metadata": {},
   "source": [
    "Quickly check if everything is working find and we obtain the same simulation results."
   ]
  },
  {
   "cell_type": "code",
   "execution_count": null,
   "metadata": {},
   "outputs": [],
   "source": [
    "C₀ = Float32[60.0; 60.0; 15.0]\n",
    "data = generate_true_solution(C₀, 240.0);\n",
    "pred = predict_neuralODE(C₀)\n",
    "pl = prediction_vs_data(data, pred)"
   ]
  },
  {
   "cell_type": "markdown",
   "metadata": {},
   "source": [
    "Defining the reactor model for both the true model as the neural ODE model. $\\nu$() is defined in the helper functions loaded at the start of the notebook."
   ]
  },
  {
   "cell_type": "code",
   "execution_count": null,
   "metadata": {},
   "outputs": [],
   "source": [
    "function reactor!(du, u, p, t)\n",
    "  G, L, Es = u\n",
    "  Gᵢ, Lᵢ, Esᵢ = C₀\n",
    "  p₂ = (9.03f-2, 5.0f-2, 1.9f1)\n",
    "\n",
    "  dG  = du[1] = 1/V*(Qᵢ*Gᵢ-Qᵢ*G) - ν(G, L, Es, p₂)\n",
    "  dL  = du[2] = 1/V*(Qᵢ*Lᵢ-Qᵢ*L) - ν(G, L, Es, p₂)\n",
    "  dEs = du[3] = 1/V*(Qᵢ*Esᵢ-Qᵢ*Es) + ν(G, L, Es, p₂)\n",
    "end\n",
    "\n",
    "function reactorNN!(du, u, p, t)\n",
    "  G, L, Es = u\n",
    "  Gᵢ, Lᵢ, Esᵢ = C₀\n",
    "    \n",
    "  dG  = du[1] = 1/V*(Qᵢ*Gᵢ-Qᵢ*G) - trainedModel(u, p, t)[3]\n",
    "  dL  = du[2] = 1/V*(Qᵢ*Lᵢ-Qᵢ*L) - trainedModel(u, p, t)[3]\n",
    "  dEs = du[3] = 1/V*(Qᵢ*Esᵢ-Qᵢ*Es) + trainedModel(u, p, t)[3]\n",
    "end;"
   ]
  },
  {
   "cell_type": "markdown",
   "metadata": {},
   "source": [
    "Defining the reactor dimensions, flow rate and inlet concentrations"
   ]
  },
  {
   "cell_type": "code",
   "execution_count": null,
   "metadata": {},
   "outputs": [],
   "source": [
    "V = 10.0f0\n",
    "Qᵢ = 0.05f0\n",
    "C₀ = [60.0f0; 60.0f0; 0.0f0];\n",
    "tₑ = 480.0f0"
   ]
  },
  {
   "cell_type": "markdown",
   "metadata": {},
   "source": [
    "Defining an ODE for the true model and the neural ODE model"
   ]
  },
  {
   "cell_type": "code",
   "execution_count": null,
   "metadata": {
    "scrolled": false
   },
   "outputs": [],
   "source": [
    "probReactorNN = ODEProblem(reactorNN!, C₀, (0.0f0, tₑ), p)\n",
    "solNN = solve(probReactorNN, Tsit5())\n",
    "\n",
    "probReactor = ODEProblem(reactor!, C₀, (0.0f0, tₑ), p)\n",
    "sol = solve(probReactor, Tsit5());"
   ]
  },
  {
   "cell_type": "code",
   "execution_count": null,
   "metadata": {},
   "outputs": [],
   "source": [
    "pl = plot()\n",
    "\n",
    "G = [C[1] for C in sol.u]\n",
    "L = [C[2] for C in sol.u]\n",
    "Es = [C[3] for C in sol.u]\n",
    "\n",
    "scatter!(pl, sol.t, G, label=\"\")\n",
    "scatter!(pl, sol.t, L, label=\"\")\n",
    "scatter!(pl, sol.t, Es, label=\"\")\n",
    "\n",
    "GNN = [C[1] for C in solNN.u]\n",
    "LNN = [C[2] for C in solNN.u]\n",
    "EsNN = [C[3] for C in solNN.u]\n",
    "\n",
    "lcs = pl.series_list\n",
    "plot!(pl, solNN.t, GNN, lc=lcs[1][:linecolor], label=\"Sucr\", lw = 2)\n",
    "plot!(pl, solNN.t, LNN, lc=lcs[2][:linecolor], label=\"Stea\", lw = 2)\n",
    "plot!(pl, solNN.t, EsNN, lc=lcs[3][:linecolor], label= \"Sucr-Stea-Ester\", lw = 2,\n",
    "    xlabel=\"Time (min)\", ylabel=\"Concentration (M)\")"
   ]
  },
  {
   "cell_type": "markdown",
   "metadata": {},
   "source": [
    "With only 9 experiments we have trained a model that works well at estimating the reaction rate at different concentrations levels during the start up of a CSTR reactor. Some concluding remarks:"
   ]
  },
  {
   "cell_type": "markdown",
   "metadata": {},
   "source": [
    "* This CSTR model will only work within the boundaries of trained concentrations, do not expect miracles.\n",
    "* Certain combination of concentrations might lead to weird reactions rates more experiment should be added to avoid this or the structure of the neural network can be changed to included prior-knowledge on the reaction kinetics"
   ]
  },
  {
   "cell_type": "markdown",
   "metadata": {},
   "source": [
    "## Read more"
   ]
  },
  {
   "cell_type": "markdown",
   "metadata": {},
   "source": [
    "More examples on neural differential equations can be found in the *DiffEqFlux.jl* [documentation](https://diffeqflux.sciml.ai/stable/). More information on machine learning in julia can be found in the *flux.jl* [documentation](https://fluxml.ai/)."
   ]
  },
  {
   "cell_type": "markdown",
   "metadata": {},
   "source": [
    "If you find any *bugs*, *typos* or remarks on the structure and/or content of this workshop please [raise an issue](https://github.com/Beramos/Workshop-NeuralODE-2020/issues)."
   ]
  },
  {
   "cell_type": "markdown",
   "metadata": {},
   "source": [
    "-----\n",
    "Contact: [Bram.De.Jaegher@gmail.com](mailto:bram.de.jaegher@gmail.com)\n",
    "\n",
    "![footer](./figs/footerLogo.svg)\n"
   ]
  }
 ],
 "metadata": {
  "@webio": {
   "lastCommId": null,
   "lastKernelId": null
  },
  "kernelspec": {
   "display_name": "Julia 1.10.0",
   "language": "julia",
   "name": "julia-1.10"
  },
  "language_info": {
   "file_extension": ".jl",
   "mimetype": "application/julia",
   "name": "julia",
   "version": "1.10.0"
  }
 },
 "nbformat": 4,
 "nbformat_minor": 4
}
